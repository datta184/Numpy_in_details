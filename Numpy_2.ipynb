{
 "cells": [
  {
   "cell_type": "markdown",
   "metadata": {},
   "source": [
    "# Array slicing"
   ]
  },
  {
   "cell_type": "code",
   "execution_count": null,
   "metadata": {},
   "outputs": [],
   "source": [
    "# Array slicing of 1-D array\n",
    "\n",
    "import numpy as np\n",
    "\n",
    "one_D=np.array([100,200,300,400,500,600,700,800])\n",
    "print(\"One_D array is :\",one_D)\n",
    "print(\"\\nThe daimentio of arry is :\",one_D.ndim)\n",
    "print(\"\\n First element of array is:\",one_D[0])\n"
   ]
  },
  {
   "cell_type": "code",
   "execution_count": null,
   "metadata": {},
   "outputs": [],
   "source": [
    "# Slicing of 2-D array\n",
    "\n",
    "two_D=np.array([[100,200,300,400,500],[600,700,800,900,999]])\n",
    "print(\"Two_D array is :\\n\",two_D)\n",
    "print(\"\\nThe daimentio of arry is :\",two_D.ndim)\n",
    "print(\"\\n First element of array is:\",two_D[0,0])\n",
    "print(\"\\n First element of array is:\",two_D[1,4])"
   ]
  },
  {
   "cell_type": "code",
   "execution_count": 37,
   "metadata": {},
   "outputs": [
    {
     "name": "stdout",
     "output_type": "stream",
     "text": [
      "[[[10 20 30]\n",
      "  [40 50 60]\n",
      "  [70 80 90]]]\n",
      "\n",
      "The Diamention of the Arrya Is: 3\n",
      "********************************************\n",
      "Accessing the oth location`s all element: [10 20 30]\n",
      "Accessing the 1st location`s all element: [40 50 60]\n",
      "Accessing the 2nd location`s all element: [70 80 90]\n",
      "********************************************\n",
      "\n",
      "Now accessing the Specific element of array\n",
      "\n",
      "the fifth element of the aaray is L: 50\n"
     ]
    }
   ],
   "source": [
    "# Slicing of 3-D array\n",
    "import numpy as np\n",
    "three_D=np.array([[[10,20,30],[40,50,60],[70,80,90]]])\n",
    "print(three_D)\n",
    "print(\"\\nThe Diamention of the Arrya Is:\",three_D.ndim)\n",
    "print(\"********************************************\")\n",
    "print(\"Accessing the oth location`s all element:\",three_D[0,0])\n",
    "print(\"Accessing the 1st location`s all element:\",three_D[0,1])\n",
    "print(\"Accessing the 2nd location`s all element:\",three_D[0,2])\n",
    "print(\"********************************************\\n\")\n",
    "print(\"Now accessing the Specific element of array\\n\")\n",
    "print(\"the fifth element of the aaray is L:\",three_D[0,1,1])"
   ]
  },
  {
   "cell_type": "markdown",
   "metadata": {},
   "source": [
    "## Negative slicing slicing"
   ]
  },
  {
   "cell_type": "code",
   "execution_count": 59,
   "metadata": {},
   "outputs": [
    {
     "name": "stdout",
     "output_type": "stream",
     "text": [
      "[10 11 12 13 14 15 16]\n",
      "\n",
      "The diamention of the array is : 1\n",
      "\n",
      "Printing the last element using the negagtive index: 16\n"
     ]
    }
   ],
   "source": [
    "# Lets see the negative slicing/indexing  in array \n",
    "neg=np.array([10,11,12,13,14,15,16])\n",
    "print(neg)\n",
    "print(\"\\nThe diamention of the array is :\",neg.ndim)\n",
    "print(\"\\nPrinting the last element using the negagtive index:\",neg[-1])\n"
   ]
  },
  {
   "cell_type": "code",
   "execution_count": 61,
   "metadata": {},
   "outputs": [
    {
     "name": "stdout",
     "output_type": "stream",
     "text": [
      "[10 12 14 16]\n"
     ]
    }
   ],
   "source": [
    "#step value in slicing array\n",
    "print(neg[0:7:2])"
   ]
  },
  {
   "cell_type": "code",
   "execution_count": null,
   "metadata": {},
   "outputs": [],
   "source": []
  }
 ],
 "metadata": {
  "kernelspec": {
   "display_name": "Python 3",
   "language": "python",
   "name": "python3"
  },
  "language_info": {
   "codemirror_mode": {
    "name": "ipython",
    "version": 3
   },
   "file_extension": ".py",
   "mimetype": "text/x-python",
   "name": "python",
   "nbconvert_exporter": "python",
   "pygments_lexer": "ipython3",
   "version": "3.8.10"
  }
 },
 "nbformat": 4,
 "nbformat_minor": 4
}
