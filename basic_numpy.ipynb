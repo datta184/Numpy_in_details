{
 "cells": [
  {
   "cell_type": "markdown",
   "metadata": {},
   "source": [
    "# Numpy array"
   ]
  },
  {
   "cell_type": "markdown",
   "metadata": {},
   "source": [
    "* numpy is genral purpose array-proccessing package"
   ]
  },
  {
   "cell_type": "code",
   "execution_count": 1,
   "metadata": {},
   "outputs": [],
   "source": [
    "# lets import the numpy\n",
    "import numpy as np"
   ]
  },
  {
   "cell_type": "code",
   "execution_count": 5,
   "metadata": {},
   "outputs": [
    {
     "name": "stdout",
     "output_type": "stream",
     "text": [
      "[10, 20, 30, 40, 50]\n",
      "<class 'list'>\n"
     ]
    }
   ],
   "source": [
    "# now creating a list \n",
    "ls=[10,20,30,40,50]\n",
    "print(ls)\n",
    "print(type(ls))"
   ]
  },
  {
   "cell_type": "code",
   "execution_count": 9,
   "metadata": {},
   "outputs": [
    {
     "name": "stdout",
     "output_type": "stream",
     "text": [
      "[10 20 30 40 50]\n",
      "<class 'numpy.ndarray'>\n"
     ]
    }
   ],
   "source": [
    "# now converting the list in to numpy array\n",
    "ar=np.array(ls)\n",
    "print(ar)\n",
    "print(type(ar))"
   ]
  },
  {
   "cell_type": "code",
   "execution_count": 21,
   "metadata": {},
   "outputs": [
    {
     "name": "stdout",
     "output_type": "stream",
     "text": [
      "[[10 20 30]\n",
      " [40 50 60]\n",
      " [70 80 90]]\n",
      "\n",
      " <class 'numpy.ndarray'>\n",
      "\n",
      "The diamention of array is : 2\n"
     ]
    }
   ],
   "source": [
    "# multi diamentional array \n",
    "\n",
    "my_arr1=[10,20,30]\n",
    "my_arr2=[40,50,60]\n",
    "my_arr3=[70,80,90]\n",
    "\n",
    "my_arr=np.array([my_arr1,my_arr2,my_arr3])\n",
    "\n",
    "print(my_arr)\n",
    "print(\"\\n\",type(my_arr))\n",
    "print(\"\\nThe diamention of array is :\",my_arr.ndim)"
   ]
  },
  {
   "cell_type": "markdown",
   "metadata": {},
   "source": [
    "## Accessing array element"
   ]
  },
  {
   "cell_type": "code",
   "execution_count": 33,
   "metadata": {},
   "outputs": [
    {
     "name": "stdout",
     "output_type": "stream",
     "text": [
      "[11 22 33 44 55]\n",
      "third element is a: 33\n"
     ]
    }
   ],
   "source": [
    "# accesing the element of 1-D array\n",
    "\n",
    "one_D = np.array([11,22,33,44,55])\n",
    "print(one_D)\n",
    "print(\"third element is a:\",one_D[2])\n",
    "# print(one_D.ndim)"
   ]
  },
  {
   "cell_type": "code",
   "execution_count": 45,
   "metadata": {},
   "outputs": [
    {
     "name": "stdout",
     "output_type": "stream",
     "text": [
      "[[19 29 39 49]\n",
      " [59 69 79 89]]\n",
      "\n",
      "The fifth element oif the array is: 59\n"
     ]
    }
   ],
   "source": [
    "# accesing the element of 2-D array\n",
    "two_D = np.array([[19,29,39,49],[59,69,79,89]])\n",
    "print(two_D)\n",
    "print(\"\\nThe fifth element oif the array is:\",two_D[1][0])\n"
   ]
  },
  {
   "cell_type": "code",
   "execution_count": null,
   "metadata": {},
   "outputs": [],
   "source": []
  }
 ],
 "metadata": {
  "kernelspec": {
   "display_name": "Python 3",
   "language": "python",
   "name": "python3"
  },
  "language_info": {
   "codemirror_mode": {
    "name": "ipython",
    "version": 3
   },
   "file_extension": ".py",
   "mimetype": "text/x-python",
   "name": "python",
   "nbconvert_exporter": "python",
   "pygments_lexer": "ipython3",
   "version": "3.8.10"
  }
 },
 "nbformat": 4,
 "nbformat_minor": 4
}
