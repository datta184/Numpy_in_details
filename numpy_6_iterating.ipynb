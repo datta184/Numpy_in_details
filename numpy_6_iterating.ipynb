{
 "cells": [
  {
   "cell_type": "markdown",
   "metadata": {},
   "source": [
    "# Iterating numpy array"
   ]
  },
  {
   "cell_type": "code",
   "execution_count": 3,
   "metadata": {},
   "outputs": [
    {
     "name": "stdout",
     "output_type": "stream",
     "text": [
      "[10 20 30 40 50 60 70 80 90]\n",
      "10\n",
      "20\n",
      "30\n",
      "40\n",
      "50\n",
      "60\n",
      "70\n",
      "80\n",
      "90\n"
     ]
    }
   ],
   "source": [
    "# itrarting means=====> meetintg each aary or checking each array\n",
    "import numpy as np\n",
    "arr = np.array([10,20,30,40,50,60,70,80,90])\n",
    "print(arr)\n",
    "\n",
    "for element in arr:\n",
    "    print(element)"
   ]
  },
  {
   "cell_type": "code",
   "execution_count": 16,
   "metadata": {},
   "outputs": [
    {
     "name": "stdout",
     "output_type": "stream",
     "text": [
      "[[10 20 30]\n",
      " [40 50 60]]\n",
      "\n",
      "printing rows of two array:\n",
      "\n",
      " [10 20 30]\n",
      "\n",
      " [40 50 60]\n",
      "**************************************************\n",
      " \n",
      "printing each element of of two_D array\n",
      "\n",
      " 10\n",
      "\n",
      " 20\n",
      "\n",
      " 30\n",
      "\n",
      " 40\n",
      "\n",
      " 50\n",
      "\n",
      " 60\n"
     ]
    }
   ],
   "source": [
    "# iterating on two array\n",
    "two_D = np.array([[10,20,30],[40,50,60]])\n",
    "print(two_D)\n",
    "print(\"\\nprinting rows of two array:\")\n",
    "for i in two_D:\n",
    "    print(\"\\n\",i)\n",
    "    \n",
    "print(\"**************************************************\")\n",
    "   \n",
    "print(\" \\nprinting each element of of two_D array\")\n",
    "for itr in two_D:\n",
    "    for itr1 in itr:\n",
    "        print(\"\\n\",itr1)\n",
    "    "
   ]
  },
  {
   "cell_type": "code",
   "execution_count": 64,
   "metadata": {},
   "outputs": [
    {
     "name": "stdout",
     "output_type": "stream",
     "text": [
      "\n",
      "Diamention of array id: 3\n",
      "\n",
      "printing each element of the 3-d array\n",
      "\n",
      "*******************************************\n",
      "\n",
      " Element present at location no  1 is: 10\n",
      "\n",
      " Element present at location no  2 is: 20\n",
      "\n",
      " Element present at location no  3 is: 30\n",
      "\n",
      " Element present at location no  4 is: 40\n",
      "\n",
      " Element present at location no  5 is: 50\n",
      "\n",
      " Element present at location no  6 is: 60\n",
      "\n",
      " Element present at location no  7 is: 70\n",
      "\n",
      " Element present at location no  8 is: 80\n",
      "\n",
      " Element present at location no  9 is: 90\n",
      "\n",
      "*******************************************\n"
     ]
    }
   ],
   "source": [
    "# Iterating on scalar array 3-D array\n",
    "arr = np.array([[[10,20,30],[40,50,60],[70,80,90]]])\n",
    "print(\"\\nDiamention of array id:\",array.ndim)\n",
    "\n",
    "print(\"\\nprinting each element of the 3-d array\")\n",
    "print(\"\\n*******************************************\")\n",
    "a=1\n",
    "for x in arr:\n",
    "    \n",
    "    for y in x:\n",
    "        \n",
    "        for z in y:\n",
    "            print(\"\\n Element present at location no \",a,\"is:\",z)\n",
    "            a+=1\n",
    "print(\"\\n*******************************************\")"
   ]
  },
  {
   "cell_type": "code",
   "execution_count": 68,
   "metadata": {},
   "outputs": [
    {
     "name": "stdout",
     "output_type": "stream",
     "text": [
      "\n",
      " The  1 row of array is ====> [10 20 30]\n",
      "\n",
      " The  2 row of array is ====> [40 50 60]\n",
      "\n",
      " The  3 row of array is ====> [70 80 90]\n"
     ]
    }
   ],
   "source": [
    "#prirnting rows of three D array\n",
    "b=1\n",
    "for x in arr:\n",
    "    \n",
    "    for y in x:\n",
    "        print(\"\\n The \",b,\"row of array is ====>\",y)\n",
    "        b+=1"
   ]
  },
  {
   "cell_type": "code",
   "execution_count": null,
   "metadata": {},
   "outputs": [],
   "source": []
  }
 ],
 "metadata": {
  "kernelspec": {
   "display_name": "Python 3",
   "language": "python",
   "name": "python3"
  },
  "language_info": {
   "codemirror_mode": {
    "name": "ipython",
    "version": 3
   },
   "file_extension": ".py",
   "mimetype": "text/x-python",
   "name": "python",
   "nbconvert_exporter": "python",
   "pygments_lexer": "ipython3",
   "version": "3.8.10"
  }
 },
 "nbformat": 4,
 "nbformat_minor": 4
}
