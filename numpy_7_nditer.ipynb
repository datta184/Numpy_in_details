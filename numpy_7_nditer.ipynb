{
 "cells": [
  {
   "cell_type": "markdown",
   "metadata": {},
   "source": [
    "# nditer"
   ]
  },
  {
   "cell_type": "code",
   "execution_count": 9,
   "metadata": {},
   "outputs": [
    {
     "name": "stdout",
     "output_type": "stream",
     "text": [
      "\n",
      "The one_Darray is : [10 20 30 40 50 60]\n",
      "10\n",
      "20\n",
      "30\n",
      "40\n",
      "50\n",
      "60\n"
     ]
    }
   ],
   "source": [
    "# iterating using  nditer means  Each element of an array is visited \n",
    "\n",
    "# iterating on 1-D array\n",
    "import numpy as np\n",
    "one_D = np.array([10,20,30,40,50,60])\n",
    "print(\"\\nThe one_Darray is :\",one_D)\n",
    "a = np.nditer(one_D)\n",
    "for i in a:\n",
    "    print(i)"
   ]
  },
  {
   "cell_type": "code",
   "execution_count": 13,
   "metadata": {},
   "outputs": [
    {
     "name": "stdout",
     "output_type": "stream",
     "text": [
      "THe two_D array is\n",
      " [[10 20 30]\n",
      " [40 50 60]] \n",
      "\n",
      "10\n",
      "20\n",
      "30\n",
      "40\n",
      "50\n",
      "60\n"
     ]
    }
   ],
   "source": [
    "# printing element of 2-D array using nditer\n",
    "\n",
    "two_D = np.array([[10,20,30],[40,50,60]])\n",
    "print(\"THe two_D array is\\n\",two_D,\"\\n\")\n",
    "\n",
    "x = np.nditer(two_D)\n",
    "for y in x:\n",
    "    print(y)"
   ]
  },
  {
   "cell_type": "code",
   "execution_count": 19,
   "metadata": {},
   "outputs": [
    {
     "name": "stdout",
     "output_type": "stream",
     "text": [
      "The three_array is :\n",
      " [[[10 20 30]\n",
      "  [40 50 60]\n",
      "  [70 80 90]]]\n",
      " \n",
      "printing the element of the three_D array\n",
      "\n",
      " 10\n",
      "\n",
      " 20\n",
      "\n",
      " 30\n",
      "\n",
      " 40\n",
      "\n",
      " 50\n",
      "\n",
      " 60\n",
      "\n",
      " 70\n",
      "\n",
      " 80\n",
      "\n",
      " 90\n"
     ]
    }
   ],
   "source": [
    "# printing the elelement of Three_D array\n",
    "three_D = np.array([[[10,20,30],[40,50,60],[70,80,90]]])\n",
    "print(\"The three_array is :\\n\",three_D)\n",
    "n = np.nditer(three_D)\n",
    "print(\" \\nprinting the element of the three_D array\")\n",
    "for i in n:\n",
    "    print(\"\\n\",i)"
   ]
  },
  {
   "cell_type": "code",
   "execution_count": null,
   "metadata": {},
   "outputs": [],
   "source": []
  }
 ],
 "metadata": {
  "kernelspec": {
   "display_name": "Python 3",
   "language": "python",
   "name": "python3"
  },
  "language_info": {
   "codemirror_mode": {
    "name": "ipython",
    "version": 3
   },
   "file_extension": ".py",
   "mimetype": "text/x-python",
   "name": "python",
   "nbconvert_exporter": "python",
   "pygments_lexer": "ipython3",
   "version": "3.8.10"
  }
 },
 "nbformat": 4,
 "nbformat_minor": 4
}
