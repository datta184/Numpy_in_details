{
 "cells": [
  {
   "cell_type": "markdown",
   "metadata": {},
   "source": [
    "# filtering array"
   ]
  },
  {
   "cell_type": "code",
   "execution_count": 1,
   "metadata": {},
   "outputs": [],
   "source": [
    "import numpy as np"
   ]
  },
  {
   "cell_type": "code",
   "execution_count": 2,
   "metadata": {},
   "outputs": [
    {
     "data": {
      "text/plain": [
       "'\\nGetting some element out from exting array and creatin ga new arryay out of them is called filtering the array \\nNumpy filters  array using boolean values\\n\\n'"
      ]
     },
     "execution_count": 2,
     "metadata": {},
     "output_type": "execute_result"
    }
   ],
   "source": [
    "'''\n",
    "Getting some element out from exting array and creatin ga new arryay out of them is called filtering the array \n",
    "Numpy filters  array using boolean values\n",
    "\n",
    "'''"
   ]
  },
  {
   "cell_type": "code",
   "execution_count": 5,
   "metadata": {},
   "outputs": [
    {
     "data": {
      "text/plain": [
       "array([2, 3])"
      ]
     },
     "execution_count": 5,
     "metadata": {},
     "output_type": "execute_result"
    }
   ],
   "source": [
    "# exapmle\n",
    "arr = np.array([2,4,5,3])\n",
    "a = [True,False,False,True]\n",
    "\n",
    "new = arr[a]\n",
    "new"
   ]
  },
  {
   "cell_type": "code",
   "execution_count": 8,
   "metadata": {},
   "outputs": [
    {
     "name": "stdout",
     "output_type": "stream",
     "text": [
      "[False, True, False, True, False, True, False, True, False, False, True, False, True, False, True, False, True, False, True]\n"
     ]
    },
    {
     "data": {
      "text/plain": [
       "array([ 2,  4,  6,  8, 12, 14, 16, 18, 20])"
      ]
     },
     "execution_count": 8,
     "metadata": {},
     "output_type": "execute_result"
    }
   ],
   "source": [
    "# printing the even numbers from list or array\n",
    "\n",
    "arr = np.array([1,2,3,4,5,6,7,8,9,11,12,13,14,15,16,17,18,19,20])\n",
    "\n",
    "# creating an empty list \n",
    "lst = []\n",
    "\n",
    "for i in arr:\n",
    "    if i%2==0:\n",
    "        lst.append(True)\n",
    "    else:\n",
    "        lst.append(False)\n",
    "    \n",
    "print(lst)\n",
    "\n",
    "new_arr = arr[lst]\n",
    "\n",
    "new_arr\n"
   ]
  },
  {
   "cell_type": "markdown",
   "metadata": {},
   "source": [
    "### Other numpy functions\n"
   ]
  },
  {
   "cell_type": "code",
   "execution_count": 9,
   "metadata": {},
   "outputs": [
    {
     "data": {
      "text/plain": [
       "array([0, 1, 2, 3, 4, 5, 6, 7, 8, 9])"
      ]
     },
     "execution_count": 9,
     "metadata": {},
     "output_type": "execute_result"
    }
   ],
   "source": [
    "# arange to create array within given range\n",
    "ar =  np.arange(10)\n",
    "ar"
   ]
  },
  {
   "cell_type": "code",
   "execution_count": 13,
   "metadata": {},
   "outputs": [
    {
     "name": "stdout",
     "output_type": "stream",
     "text": [
      "The minimum elemnt of array is: 0\n"
     ]
    }
   ],
   "source": [
    "# finding minnimum\n",
    "print(\"The minimum elemnt of array is:\",ar.min())"
   ]
  },
  {
   "cell_type": "code",
   "execution_count": 12,
   "metadata": {},
   "outputs": [
    {
     "name": "stdout",
     "output_type": "stream",
     "text": [
      "The maximum number in array is: 9\n"
     ]
    }
   ],
   "source": [
    "# finding minnimum\n",
    "print(\"The maximum number in array is:\",ar.max())"
   ]
  },
  {
   "cell_type": "code",
   "execution_count": 14,
   "metadata": {},
   "outputs": [
    {
     "name": "stdout",
     "output_type": "stream",
     "text": [
      "The sum of the array elemnt is : 45\n"
     ]
    }
   ],
   "source": [
    "# The sum of array element\n",
    "print(\"The sum of the array elemnt is :\",ar.sum())"
   ]
  },
  {
   "cell_type": "code",
   "execution_count": 15,
   "metadata": {},
   "outputs": [
    {
     "data": {
      "text/plain": [
       "array([[0.31812572, 0.75356611, 0.0454547 ],\n",
       "       [0.97272175, 0.05148098, 0.16484055],\n",
       "       [0.23100794, 0.68247408, 0.13442928]])"
      ]
     },
     "execution_count": 15,
     "metadata": {},
     "output_type": "execute_result"
    }
   ],
   "source": [
    "# creating an array with random element\n",
    "ran = np.random.rand(3,3)\n",
    "ran"
   ]
  },
  {
   "cell_type": "code",
   "execution_count": 18,
   "metadata": {},
   "outputs": [
    {
     "data": {
      "text/plain": [
       "array([[1., 0., 0., 0.],\n",
       "       [0., 1., 0., 0.],\n",
       "       [0., 0., 1., 0.],\n",
       "       [0., 0., 0., 1.],\n",
       "       [0., 0., 0., 0.]])"
      ]
     },
     "execution_count": 18,
     "metadata": {},
     "output_type": "execute_result"
    }
   ],
   "source": [
    "# creating unit matrix\n",
    "\n",
    "uni = np.eye(5,4)\n",
    "uni"
   ]
  },
  {
   "cell_type": "code",
   "execution_count": null,
   "metadata": {},
   "outputs": [],
   "source": []
  }
 ],
 "metadata": {
  "kernelspec": {
   "display_name": "Python 3",
   "language": "python",
   "name": "python3"
  },
  "language_info": {
   "codemirror_mode": {
    "name": "ipython",
    "version": 3
   },
   "file_extension": ".py",
   "mimetype": "text/x-python",
   "name": "python",
   "nbconvert_exporter": "python",
   "pygments_lexer": "ipython3",
   "version": "3.8.10"
  }
 },
 "nbformat": 4,
 "nbformat_minor": 4
}
