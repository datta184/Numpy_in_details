{
 "cells": [
  {
   "cell_type": "markdown",
   "metadata": {},
   "source": [
    "# Joining the array"
   ]
  },
  {
   "cell_type": "code",
   "execution_count": 1,
   "metadata": {},
   "outputs": [],
   "source": [
    "import numpy as np\n"
   ]
  },
  {
   "cell_type": "code",
   "execution_count": 2,
   "metadata": {},
   "outputs": [],
   "source": [
    "# lets take two array\n",
    "arr1 = np.array([1,2,3,4,5,6])\n",
    "arr2 = np.array([12,13,14,15])"
   ]
  },
  {
   "cell_type": "code",
   "execution_count": 3,
   "metadata": {},
   "outputs": [],
   "source": [
    "# joining th etwo array using np.concatenate\n",
    "arr = np.concatenate((arr1,arr2))"
   ]
  },
  {
   "cell_type": "code",
   "execution_count": 4,
   "metadata": {},
   "outputs": [
    {
     "data": {
      "text/plain": [
       "array([ 1,  2,  3,  4,  5,  6, 12, 13, 14, 15])"
      ]
     },
     "execution_count": 4,
     "metadata": {},
     "output_type": "execute_result"
    }
   ],
   "source": [
    "arr\n"
   ]
  },
  {
   "cell_type": "code",
   "execution_count": 5,
   "metadata": {},
   "outputs": [
    {
     "name": "stdout",
     "output_type": "stream",
     "text": [
      "\n",
      "with axis = 1 result is :\n",
      "\n",
      " [[11 22 33 44 10 20 30 40]\n",
      " [55 66 77 88 50 60 70 80]]\n",
      "\n",
      "*********************************\n",
      "\n",
      "with axis = 0 result is :\n",
      "\n",
      " [[11 22 33 44]\n",
      " [55 66 77 88]\n",
      " [10 20 30 40]\n",
      " [50 60 70 80]]\n",
      "\n",
      "*********************************\n"
     ]
    }
   ],
   "source": [
    "#array concatenation using the axis\n",
    "\n",
    "ax1 = np.array([[11,22,33,44],[55,66,77,88]])\n",
    "ax2 = np.array([[10,20,30,40],[50,60,70,80]])\n",
    "\n",
    "ar_1 = np.concatenate((ax1,ax2),axis=1)\n",
    "\n",
    "print(\"\\nwith axis = 1 result is :\\n\\n\",ar_1)\n",
    "print(\"\\n*********************************\")\n",
    "\n",
    "ar_0 = np.concatenate((ax1,ax2),axis=0)\n",
    "\n",
    "print(\"\\nwith axis = 0 result is :\\n\\n\",ar_0)\n",
    "print(\"\\n*********************************\")"
   ]
  },
  {
   "cell_type": "markdown",
   "metadata": {},
   "source": [
    " # joining array using stack function "
   ]
  },
  {
   "cell_type": "markdown",
   "metadata": {},
   "source": [
    "### joining array using stack  is same as conacatenation difference is that stacking is done with along new axis\n"
   ]
  },
  {
   "cell_type": "code",
   "execution_count": 6,
   "metadata": {},
   "outputs": [
    {
     "data": {
      "text/plain": [
       "array([['a', 'd'],\n",
       "       ['b', 'e'],\n",
       "       ['c', 'f']], dtype='<U1')"
      ]
     },
     "execution_count": 6,
     "metadata": {},
     "output_type": "execute_result"
    }
   ],
   "source": [
    "h_arr_1 = np.array(['a','b','c'])\n",
    "h_arr_2 = np.array(['d','e','f'])\n",
    "\n",
    "st_arr_1 = np.stack((h_arr_1,h_arr_2),axis=1)\n",
    "st_arr_1\n",
    "\n"
   ]
  },
  {
   "cell_type": "code",
   "execution_count": 7,
   "metadata": {},
   "outputs": [
    {
     "data": {
      "text/plain": [
       "array([['a', 'b', 'c'],\n",
       "       ['d', 'e', 'f']], dtype='<U1')"
      ]
     },
     "execution_count": 7,
     "metadata": {},
     "output_type": "execute_result"
    }
   ],
   "source": [
    "# along axis =0\n",
    "st_arr_0 = np.stack((h_arr_1,h_arr_2),axis=0)\n",
    "st_arr_0"
   ]
  },
  {
   "cell_type": "code",
   "execution_count": 8,
   "metadata": {},
   "outputs": [
    {
     "data": {
      "text/plain": [
       "array(['man', 'bana', 'app', 'go', 'na', 'le'], dtype='<U4')"
      ]
     },
     "execution_count": 8,
     "metadata": {},
     "output_type": "execute_result"
    }
   ],
   "source": [
    "# hstack function it concatene or join in a row\n",
    "first = np.array([\"man\",\"bana\",\"app\"])\n",
    "second = np.array([\"go\",\"na\",\"le\"])\n",
    "\n",
    "hck = np.hstack((first,second))\n",
    "\n",
    "hck"
   ]
  },
  {
   "cell_type": "code",
   "execution_count": 9,
   "metadata": {},
   "outputs": [
    {
     "data": {
      "text/plain": [
       "array([['man', 'bana', 'app'],\n",
       "       ['go', 'na', 'le']], dtype='<U4')"
      ]
     },
     "execution_count": 9,
     "metadata": {},
     "output_type": "execute_result"
    }
   ],
   "source": [
    "# now lets see the stackin galong coloumn\n",
    "\n",
    "first_1 = np.array([\"man\",\"bana\",\"app\"])\n",
    "second_2 = np.array([\"go\",\"na\",\"le\"])\n",
    "\n",
    "hsck = np.vstack((first_1,second_2))\n",
    "\n",
    "hsck"
   ]
  },
  {
   "cell_type": "code",
   "execution_count": 10,
   "metadata": {},
   "outputs": [
    {
     "data": {
      "text/plain": [
       "array([[[1, 4],\n",
       "        [2, 5],\n",
       "        [3, 6]]])"
      ]
     },
     "execution_count": 10,
     "metadata": {},
     "output_type": "execute_result"
    }
   ],
   "source": [
    "# stacking alon g depth.(Stack arrays in sequence depth wise (along third axis).\n",
    "\n",
    "st1 = np.array([1,2,3])\n",
    "st2 = np.array([4,5,6])\n",
    "\n",
    "dep = np.dstack((st1,st2))\n",
    "dep"
   ]
  },
  {
   "cell_type": "markdown",
   "metadata": {},
   "source": [
    "# splitting array"
   ]
  },
  {
   "cell_type": "code",
   "execution_count": 19,
   "metadata": {},
   "outputs": [
    {
     "name": "stdout",
     "output_type": "stream",
     "text": [
      "\n",
      "**********************************\n",
      "\n",
      "The whole array is :\n",
      " [1 2 3 4 5 6 7 8 9]\n",
      "\n",
      " The splitted arary is :\n",
      " [array([1, 2, 3]), array([4, 5, 6]), array([7, 8, 9])]\n",
      "\n",
      "**********************************\n",
      "\n",
      "splitted array are:\n",
      "[1 2 3]\n",
      "[4 5 6]\n",
      "[7 8 9]\n"
     ]
    }
   ],
   "source": []
  }
 ],
 "metadata": {
  "kernelspec": {
   "display_name": "Python 3",
   "language": "python",
   "name": "python3"
  },
  "language_info": {
   "codemirror_mode": {
    "name": "ipython",
    "version": 3
   },
   "file_extension": ".py",
   "mimetype": "text/x-python",
   "name": "python",
   "nbconvert_exporter": "python",
   "pygments_lexer": "ipython3",
   "version": "3.8.10"
  }
 },
 "nbformat": 4,
 "nbformat_minor": 4
}
