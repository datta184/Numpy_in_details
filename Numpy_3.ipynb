{
 "cells": [
  {
   "cell_type": "markdown",
   "metadata": {},
   "source": [
    "# Data types Numpy"
   ]
  },
  {
   "cell_type": "code",
   "execution_count": 2,
   "metadata": {},
   "outputs": [
    {
     "name": "stdout",
     "output_type": "stream",
     "text": [
      "[90 80 70 60 50 40 30 20 10]\n",
      "int64\n"
     ]
    }
   ],
   "source": [
    "# lets see the data types in numpy \n",
    "import numpy as np\n",
    "dt=np.array([90,80,70,60,50,40,30,20,10])\n",
    "print(dt)\n",
    "print(dt.dtype)"
   ]
  },
  {
   "cell_type": "markdown",
   "metadata": {},
   "source": [
    "### Let`s try some fun in numpy with sting"
   ]
  },
  {
   "cell_type": "code",
   "execution_count": 4,
   "metadata": {},
   "outputs": [
    {
     "name": "stdout",
     "output_type": "stream",
     "text": [
      "['peter' 'john,' 'don' 'rock']\n",
      "<U5\n"
     ]
    }
   ],
   "source": [
    "string = np.array([\"peter\",\"john,\",\"don\",\"rock\"])\n",
    "print(string)\n",
    "print(string.dtype)"
   ]
  },
  {
   "cell_type": "markdown",
   "metadata": {},
   "source": [
    "### creating the array with defined datatype"
   ]
  },
  {
   "cell_type": "code",
   "execution_count": 19,
   "metadata": {},
   "outputs": [
    {
     "name": "stdout",
     "output_type": "stream",
     "text": [
      "[41 42 43 44 45]\n",
      "int64\n"
     ]
    }
   ],
   "source": [
    "dummy=df = np.array([41.2,42,43,44,45],dtype=\"int\")\n",
    "print(dummy)\n",
    "print(df.dtype)\n"
   ]
  },
  {
   "cell_type": "code",
   "execution_count": 28,
   "metadata": {},
   "outputs": [
    {
     "name": "stdout",
     "output_type": "stream",
     "text": [
      "int32\n"
     ]
    }
   ],
   "source": [
    "# int with 4 byte \n",
    "arr=np.array([1,2,3,4,5],dtype='i4')\n",
    "print(arr.dtype)"
   ]
  },
  {
   "cell_type": "markdown",
   "metadata": {},
   "source": [
    "### data type conversion using astype"
   ]
  },
  {
   "cell_type": "code",
   "execution_count": 30,
   "metadata": {},
   "outputs": [
    {
     "name": "stdout",
     "output_type": "stream",
     "text": [
      "main array: [9 8 7 6 5 4 3 2]\n",
      "\n",
      "converted array : [9. 8. 7. 6. 5. 4. 3. 2.]\n"
     ]
    }
   ],
   "source": [
    "#int to float\n",
    "ar = np.array([9,8,7,6,5,4,3,2])\n",
    "new_ar = ar.astype(float)\n",
    "print(\"main array:\",ar)\n",
    "print(\"\\nconverted array :\",new_ar)"
   ]
  },
  {
   "cell_type": "code",
   "execution_count": 34,
   "metadata": {},
   "outputs": [
    {
     "name": "stdout",
     "output_type": "stream",
     "text": [
      "main/orignal float aaray: [112.22 132.33 432.44 572.55 628.66]\n",
      "\n",
      " the converted array from float to int: [112 132 432 572 628]\n"
     ]
    }
   ],
   "source": [
    "# now float to int \n",
    "flt = np.array([112.22,132.33,432.44,572.55,628.66])\n",
    "integer = flt.astype(int)\n",
    "print(\"main/orignal float aaray:\",flt)\n",
    "print(\"\\n the converted array from float to int:\",integer)"
   ]
  },
  {
   "cell_type": "code",
   "execution_count": 39,
   "metadata": {},
   "outputs": [
    {
     "name": "stdout",
     "output_type": "stream",
     "text": [
      "the main flaot aaray: [11.22 32.33 32.44 72.55 28.66]\n",
      "\n",
      "the cinverted array to boolean: [ True  True  True  True  True]\n"
     ]
    }
   ],
   "source": [
    "#flaot to bool\n",
    "oat = np.array([11.22,32.33,32.44,72.55,28.66])\n",
    "inte = oat.astype(bool)\n",
    "print(\"the main flaot aaray:\",oat)\n",
    "print(\"\\nthe cinverted array to boolean:\",inte)"
   ]
  },
  {
   "cell_type": "code",
   "execution_count": null,
   "metadata": {},
   "outputs": [],
   "source": []
  }
 ],
 "metadata": {
  "kernelspec": {
   "display_name": "Python 3",
   "language": "python",
   "name": "python3"
  },
  "language_info": {
   "codemirror_mode": {
    "name": "ipython",
    "version": 3
   },
   "file_extension": ".py",
   "mimetype": "text/x-python",
   "name": "python",
   "nbconvert_exporter": "python",
   "pygments_lexer": "ipython3",
   "version": "3.8.10"
  }
 },
 "nbformat": 4,
 "nbformat_minor": 4
}
