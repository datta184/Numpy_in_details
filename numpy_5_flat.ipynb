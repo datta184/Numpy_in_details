{
 "cells": [
  {
   "cell_type": "markdown",
   "metadata": {},
   "source": [
    "# Flattening The Array"
   ]
  },
  {
   "cell_type": "code",
   "execution_count": 14,
   "metadata": {},
   "outputs": [
    {
     "name": "stdout",
     "output_type": "stream",
     "text": [
      "[[10 20 30 40]\n",
      " [50 60 70 80]]\n",
      "\n",
      "***********Cross Checking Some Fact***********\n",
      "\n",
      "It Is A Two Diamention Array. \n",
      "Daimention of array is : 2\n",
      "The type of array is : <class 'numpy.ndarray'>\n"
     ]
    }
   ],
   "source": [
    "# If we want single one-D from N-D array then we have to use reshape(-1)\n",
    "import numpy as np\n",
    "two_D = np.array([[10,20,30,40],[50,60,70,80]])\n",
    "print(two_D)\n",
    "print(\"\\n***********Cross Checking Some Fact***********\")\n",
    "print(\"\\nIt Is A Two Diamention Array. \")\n",
    "print(\"Daimention of array is :\",two_D.ndim)\n",
    "print(\"The type of array is :\",type(two_D))"
   ]
  },
  {
   "cell_type": "code",
   "execution_count": 15,
   "metadata": {},
   "outputs": [
    {
     "name": "stdout",
     "output_type": "stream",
     "text": [
      "[10 20 30 40 50 60 70 80]\n"
     ]
    }
   ],
   "source": [
    "# Fattening the array\n",
    "res = two_D.reshape(-1)\n",
    "print(res)"
   ]
  },
  {
   "cell_type": "code",
   "execution_count": null,
   "metadata": {},
   "outputs": [],
   "source": []
  }
 ],
 "metadata": {
  "kernelspec": {
   "display_name": "Python 3",
   "language": "python",
   "name": "python3"
  },
  "language_info": {
   "codemirror_mode": {
    "name": "ipython",
    "version": 3
   },
   "file_extension": ".py",
   "mimetype": "text/x-python",
   "name": "python",
   "nbconvert_exporter": "python",
   "pygments_lexer": "ipython3",
   "version": "3.8.10"
  }
 },
 "nbformat": 4,
 "nbformat_minor": 4
}
