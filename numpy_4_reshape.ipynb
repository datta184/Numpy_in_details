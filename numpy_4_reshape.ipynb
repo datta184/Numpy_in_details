{
 "cells": [
  {
   "cell_type": "markdown",
   "metadata": {},
   "source": [
    "# Numpy Arrray Reshaping"
   ]
  },
  {
   "cell_type": "markdown",
   "metadata": {},
   "source": [
    "### * Reshaping Array means changing the shape of arrray"
   ]
  },
  {
   "cell_type": "markdown",
   "metadata": {},
   "source": [
    "### * Shape of an arrray is a number of element in each diamention"
   ]
  },
  {
   "cell_type": "code",
   "execution_count": 18,
   "metadata": {},
   "outputs": [
    {
     "name": "stdout",
     "output_type": "stream",
     "text": [
      "[1 2 3 4 5 6 7 8 9] \n",
      "\n",
      "Diamention of array is: 1\n",
      "\n",
      "****************************************\n",
      "Reshaped array is:\n",
      " [[1 2 3]\n",
      " [4 5 6]\n",
      " [7 8 9]]\n",
      "\n",
      "the siamention of array is 2\n",
      "\n",
      "****************************************\n"
     ]
    }
   ],
   "source": [
    "# converting one-D array in to two-D arrray\n",
    "import numpy as  np\n",
    "\n",
    "one_D = np.array([1,2,3,4,5,6,7,8,9])\n",
    "print(one_D,\"\\n\")\n",
    "print(\"Diamention of array is:\",one_D.ndim)\n",
    "\n",
    "print(\"\\n****************************************\")\n",
    "\n",
    "res = one_D.reshape(3,3)\n",
    "print(\"Reshaped array is:\\n\",res)\n",
    "print(\"\\nthe siamention of array is\",res.ndim)\n",
    "print(\"\\n****************************************\")"
   ]
  },
  {
   "cell_type": "code",
   "execution_count": 31,
   "metadata": {},
   "outputs": [
    {
     "name": "stdout",
     "output_type": "stream",
     "text": [
      "[11 12 13 14 15 16 17 18 19 20 21 22]\n",
      "\n",
      "The diamention of array befor converting in to 3-D is : 1\n",
      "\n",
      " [[[11 12]\n",
      "  [13 14]]\n",
      "\n",
      " [[15 16]\n",
      "  [17 18]]\n",
      "\n",
      " [[19 20]\n",
      "  [21 22]]]\n",
      "The diamention of converted array is: 3\n"
     ]
    }
   ],
   "source": [
    "# now 1-d to 3-D \n",
    "one_arr = np.array([11,12,13,14,15,16,17,18,19,20,21,22])\n",
    "print(one_arr)\n",
    "print(\"\\nThe diamention of array befor converting in to 3-D is :\",one_arr.ndim)\n",
    "result = one_arr.reshape(3,2,2)\n",
    "print(\"\\n\",result)\n",
    "print(\"The diamention of converted array is:\",result.ndim)"
   ]
  },
  {
   "cell_type": "code",
   "execution_count": 35,
   "metadata": {},
   "outputs": [
    {
     "name": "stdout",
     "output_type": "stream",
     "text": [
      "Two-D array is:\n",
      " [[10 20 30 40]\n",
      " [50 60 70 80]]\n",
      "\n",
      " [[[10 20]\n",
      "  [30 40]]\n",
      "\n",
      " [[50 60]\n",
      "  [70 80]]]\n",
      "Daimention of converted array is  3\n"
     ]
    }
   ],
   "source": [
    "# 2-D to 3-D \n",
    "two_D_arr = np.array([[10,20,30,40],[50,60,70,80]])\n",
    "print(\"Two-D array is:\\n\",two_D_arr)\n",
    "cal = two_D_arr.reshape(2,2,2)\n",
    "print(\"\\n\",cal)\n",
    "print(\"Daimention of converted array is \",cal.ndim)"
   ]
  },
  {
   "cell_type": "code",
   "execution_count": null,
   "metadata": {},
   "outputs": [],
   "source": []
  }
 ],
 "metadata": {
  "kernelspec": {
   "display_name": "Python 3",
   "language": "python",
   "name": "python3"
  },
  "language_info": {
   "codemirror_mode": {
    "name": "ipython",
    "version": 3
   },
   "file_extension": ".py",
   "mimetype": "text/x-python",
   "name": "python",
   "nbconvert_exporter": "python",
   "pygments_lexer": "ipython3",
   "version": "3.8.10"
  }
 },
 "nbformat": 4,
 "nbformat_minor": 4
}
