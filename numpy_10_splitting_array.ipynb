{
 "cells": [
  {
   "cell_type": "markdown",
   "metadata": {},
   "source": [
    "# splitting array"
   ]
  },
  {
   "cell_type": "code",
   "execution_count": 1,
   "metadata": {},
   "outputs": [],
   "source": [
    "import numpy as np"
   ]
  },
  {
   "cell_type": "code",
   "execution_count": 2,
   "metadata": {},
   "outputs": [
    {
     "name": "stdout",
     "output_type": "stream",
     "text": [
      "\n",
      "**********************************\n",
      "\n",
      "The whole array is :\n",
      " [1 2 3 4 5 6 7 8 9]\n",
      "\n",
      " The splitted arary is :\n",
      " [array([1, 2, 3]), array([4, 5, 6]), array([7, 8, 9])]\n",
      "\n",
      "**********************************\n",
      "\n",
      "splitted array are:\n",
      "[1 2 3]\n",
      "[4 5 6]\n",
      "[7 8 9]\n"
     ]
    }
   ],
   "source": [
    "'''\n",
    "the array will be divided\n",
    "    into N equal arrays along axis.  If such a split is not possible,\n",
    "    an error is raised.\n",
    "\n",
    " for this error there is array_split() function\n",
    "\n",
    "'''\n",
    "\n",
    "splt = np.array([1,2,3,4,5,6,7,8,9])\n",
    "print(\"\\n**********************************\\n\")\n",
    "print(\"The whole array is :\\n\",splt)\n",
    "print(\"\\n The splitted arary is :\\n\",np.split(splt,3))\n",
    "print(\"\\n**********************************\\n\")\n",
    "print(\"splitted array are:\")\n",
    "for i in np.split(splt,3):\n",
    "    print(i)"
   ]
  },
  {
   "cell_type": "code",
   "execution_count": 3,
   "metadata": {},
   "outputs": [
    {
     "data": {
      "text/plain": [
       "array([1, 2, 3])"
      ]
     },
     "execution_count": 3,
     "metadata": {},
     "output_type": "execute_result"
    }
   ],
   "source": [
    "# accessing perticular row of splitted array\n",
    "np.split(splt,3)[0]"
   ]
  },
  {
   "cell_type": "code",
   "execution_count": 4,
   "metadata": {},
   "outputs": [
    {
     "data": {
      "text/plain": [
       "[array([10, 20, 30]), array([40, 50, 60]), array([70, 80]), array([90, 99])]"
      ]
     },
     "execution_count": 4,
     "metadata": {},
     "output_type": "execute_result"
    }
   ],
   "source": [
    "# lets take a odd diamentionsarray\n",
    "odd = np.array([10,20,30,40,50,60,70,80,90,99])\n",
    "newarr = np.array_split(odd,4)\n",
    "newarr\n",
    "\n"
   ]
  },
  {
   "cell_type": "code",
   "execution_count": 5,
   "metadata": {},
   "outputs": [
    {
     "name": "stdout",
     "output_type": "stream",
     "text": [
      "[10 20 30]\n",
      "[40 50 60]\n",
      "[70 80]\n",
      "[90 99]\n"
     ]
    }
   ],
   "source": [
    "# lets print with for loop\n",
    "for i in newarr:\n",
    "    print(i)"
   ]
  },
  {
   "cell_type": "code",
   "execution_count": 6,
   "metadata": {},
   "outputs": [
    {
     "name": "stdout",
     "output_type": "stream",
     "text": [
      "third row of the splitted aarray is: [90 99]\n"
     ]
    }
   ],
   "source": [
    "# accessin a particular row of the array \n",
    "print(\"third row of the splitted aarray is:\",newarr[3])"
   ]
  },
  {
   "cell_type": "markdown",
   "metadata": {},
   "source": [
    "# Array splitting on 2-D array"
   ]
  },
  {
   "cell_type": "code",
   "execution_count": 7,
   "metadata": {},
   "outputs": [
    {
     "name": "stdout",
     "output_type": "stream",
     "text": [
      "splitted array are:\n",
      " [array([[10, 20, 30, 40]]), array([[50, 60, 70, 80]]), array([[21, 32, 65, 45]]), array([[78, 89, 48, 49]])]\n"
     ]
    }
   ],
   "source": [
    "two_d = np.array([[10,20,30,40],[50,60,70,80],[21,32,65,45],[78,89,48,49]])\n",
    "sp = np.split(two_d,4)\n",
    "print(\"splitted array are:\\n\",sp)"
   ]
  },
  {
   "cell_type": "code",
   "execution_count": 8,
   "metadata": {},
   "outputs": [
    {
     "name": "stdout",
     "output_type": "stream",
     "text": [
      "0 row of the array is---> [[10 20 30 40]]\n",
      "1 row of the array is---> [[50 60 70 80]]\n",
      "2 row of the array is---> [[21 32 65 45]]\n",
      "3 row of the array is---> [[78 89 48 49]]\n"
     ]
    }
   ],
   "source": [
    "# lets print them suitably\n",
    "a=0\n",
    "for i in sp:\n",
    "    print(a,\"row of the array is--->\",i)\n",
    "    a+=1"
   ]
  },
  {
   "cell_type": "code",
   "execution_count": 9,
   "metadata": {},
   "outputs": [
    {
     "data": {
      "text/plain": [
       "[array([[10],\n",
       "        [50],\n",
       "        [21],\n",
       "        [78]]),\n",
       " array([[20],\n",
       "        [60],\n",
       "        [32],\n",
       "        [89]]),\n",
       " array([[30],\n",
       "        [70],\n",
       "        [65],\n",
       "        [48]]),\n",
       " array([[40],\n",
       "        [80],\n",
       "        [45],\n",
       "        [49]])]"
      ]
     },
     "execution_count": 9,
     "metadata": {},
     "output_type": "execute_result"
    }
   ],
   "source": [
    "# array splittin gon axis\n",
    "sp1 = np.split(two_d,4,axis=1)\n",
    "sp1\n"
   ]
  },
  {
   "cell_type": "code",
   "execution_count": 13,
   "metadata": {},
   "outputs": [
    {
     "name": "stdout",
     "output_type": "stream",
     "text": [
      "0 colomn is: [[10]\n",
      " [50]\n",
      " [21]\n",
      " [78]] \n",
      "\n",
      "1 colomn is: [[20]\n",
      " [60]\n",
      " [32]\n",
      " [89]] \n",
      "\n",
      "2 colomn is: [[30]\n",
      " [70]\n",
      " [65]\n",
      " [48]] \n",
      "\n",
      "3 colomn is: [[40]\n",
      " [80]\n",
      " [45]\n",
      " [49]] \n",
      "\n"
     ]
    }
   ],
   "source": [
    "# array splittin gon axis\n",
    "a=0\n",
    "for i in sp1:\n",
    "    print(a,\"colomn is:\",i,\"\\n\")\n",
    "    a+=1"
   ]
  },
  {
   "cell_type": "code",
   "execution_count": null,
   "metadata": {},
   "outputs": [],
   "source": []
  }
 ],
 "metadata": {
  "kernelspec": {
   "display_name": "Python 3",
   "language": "python",
   "name": "python3"
  },
  "language_info": {
   "codemirror_mode": {
    "name": "ipython",
    "version": 3
   },
   "file_extension": ".py",
   "mimetype": "text/x-python",
   "name": "python",
   "nbconvert_exporter": "python",
   "pygments_lexer": "ipython3",
   "version": "3.8.10"
  }
 },
 "nbformat": 4,
 "nbformat_minor": 4
}
