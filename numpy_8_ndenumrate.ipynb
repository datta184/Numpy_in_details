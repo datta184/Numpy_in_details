{
 "cells": [
  {
   "cell_type": "markdown",
   "metadata": {},
   "source": [
    "# iteration using ndenumrate"
   ]
  },
  {
   "cell_type": "code",
   "execution_count": 2,
   "metadata": {},
   "outputs": [
    {
     "name": "stdout",
     "output_type": "stream",
     "text": [
      "(0,) 10\n",
      "(1,) 20\n",
      "(2,) 30\n",
      "(3,) 40\n",
      "(4,) 50\n",
      "(5,) 60\n",
      "(6,) 70\n"
     ]
    }
   ],
   "source": [
    "# enumration means mentioning the sequence of things/element/something. one by one\n",
    "#Lets see the example\n",
    "import numpy as np\n",
    "arr = np.array([ 10,20,30,40,50,60,70])\n",
    "\n",
    "for a ,x in np.ndenumerate(arr):\n",
    "     print(a,x)\n",
    "   "
   ]
  },
  {
   "cell_type": "code",
   "execution_count": 4,
   "metadata": {},
   "outputs": [
    {
     "name": "stdout",
     "output_type": "stream",
     "text": [
      "The element present at loaction  (0, 0) is: 10\n",
      "The element present at loaction  (0, 1) is: 20\n",
      "The element present at loaction  (0, 2) is: 30\n",
      "The element present at loaction  (1, 0) is: 40\n",
      "The element present at loaction  (1, 1) is: 50\n",
      "The element present at loaction  (1, 2) is: 60\n"
     ]
    }
   ],
   "source": [
    "#lets see another exapmle on two_D array\n",
    "two_D = np.array([[10,20,30],[40,50,60]])\n",
    "\n",
    "for id,y in np.ndenumerate(two_D):\n",
    "    print(\"The element present at loaction \",id,\"is:\",y)"
   ]
  },
  {
   "cell_type": "code",
   "execution_count": 6,
   "metadata": {},
   "outputs": [
    {
     "name": "stdout",
     "output_type": "stream",
     "text": [
      "The element present at loaction  (0, 0, 0) is: 10\n",
      "The element present at loaction  (0, 0, 1) is: 203\n",
      "The element present at loaction  (0, 0, 2) is: 30\n",
      "The element present at loaction  (0, 1, 0) is: 40\n",
      "The element present at loaction  (0, 1, 1) is: 50\n",
      "The element present at loaction  (0, 1, 2) is: 60\n",
      "The element present at loaction  (0, 2, 0) is: 70\n",
      "The element present at loaction  (0, 2, 1) is: 80\n",
      "The element present at loaction  (0, 2, 2) is: 90\n"
     ]
    }
   ],
   "source": [
    "# lets try it on three_D array\n",
    "\n",
    "\n",
    "three_D = np.array([[[10,203,30],[40,50,60],[70,80,90]]])\n",
    "for i,x in np.ndenumerate(three_D):\n",
    "    print(\"The element present at loaction \",i,\"is:\",x)"
   ]
  },
  {
   "cell_type": "code",
   "execution_count": null,
   "metadata": {},
   "outputs": [],
   "source": []
  }
 ],
 "metadata": {
  "kernelspec": {
   "display_name": "Python 3",
   "language": "python",
   "name": "python3"
  },
  "language_info": {
   "codemirror_mode": {
    "name": "ipython",
    "version": 3
   },
   "file_extension": ".py",
   "mimetype": "text/x-python",
   "name": "python",
   "nbconvert_exporter": "python",
   "pygments_lexer": "ipython3",
   "version": "3.8.10"
  }
 },
 "nbformat": 4,
 "nbformat_minor": 4
}
